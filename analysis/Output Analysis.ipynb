{
 "cells": [
  {
   "cell_type": "code",
   "execution_count": 1,
   "metadata": {},
   "outputs": [],
   "source": [
    "import pandas as pd\n",
    "import numpy as np\n",
    "import matplotlib.pyplot as plt\n",
    "import seaborn as sns\n",
    "import math"
   ]
  },
  {
   "cell_type": "markdown",
   "metadata": {},
   "source": [
    "### 1. Outputs Overview"
   ]
  },
  {
   "cell_type": "code",
   "execution_count": 2,
   "metadata": {},
   "outputs": [],
   "source": [
    "# Read the csv file\n",
    "output = pd.read_csv('../output_analysis.csv', header=None)\n",
    "\n",
    "# Set names and constants\n",
    "output.columns = [\"Number of handover reservations\",\n",
    "                  \"Blocked Calls Rate (%)\", \"Dropped Calls Rate (%)\"]"
   ]
  },
  {
   "cell_type": "code",
   "execution_count": 3,
   "metadata": {},
   "outputs": [
    {
     "data": {
      "text/html": [
       "<div>\n",
       "<style scoped>\n",
       "    .dataframe tbody tr th:only-of-type {\n",
       "        vertical-align: middle;\n",
       "    }\n",
       "\n",
       "    .dataframe tbody tr th {\n",
       "        vertical-align: top;\n",
       "    }\n",
       "\n",
       "    .dataframe thead th {\n",
       "        text-align: right;\n",
       "    }\n",
       "</style>\n",
       "<table border=\"1\" class=\"dataframe\">\n",
       "  <thead>\n",
       "    <tr style=\"text-align: right;\">\n",
       "      <th></th>\n",
       "      <th>Blocked Calls Rate (%)</th>\n",
       "      <th>Dropped Calls Rate (%)</th>\n",
       "    </tr>\n",
       "  </thead>\n",
       "  <tbody>\n",
       "    <tr>\n",
       "      <th>0</th>\n",
       "      <td>0.3270</td>\n",
       "      <td>0.5825</td>\n",
       "    </tr>\n",
       "    <tr>\n",
       "      <th>1</th>\n",
       "      <td>0.3850</td>\n",
       "      <td>0.5940</td>\n",
       "    </tr>\n",
       "    <tr>\n",
       "      <th>2</th>\n",
       "      <td>0.3555</td>\n",
       "      <td>0.6095</td>\n",
       "    </tr>\n",
       "    <tr>\n",
       "      <th>3</th>\n",
       "      <td>0.3380</td>\n",
       "      <td>0.5525</td>\n",
       "    </tr>\n",
       "    <tr>\n",
       "      <th>4</th>\n",
       "      <td>0.3610</td>\n",
       "      <td>0.6310</td>\n",
       "    </tr>\n",
       "    <tr>\n",
       "      <th>...</th>\n",
       "      <td>...</td>\n",
       "      <td>...</td>\n",
       "    </tr>\n",
       "    <tr>\n",
       "      <th>95</th>\n",
       "      <td>0.3425</td>\n",
       "      <td>0.5910</td>\n",
       "    </tr>\n",
       "    <tr>\n",
       "      <th>96</th>\n",
       "      <td>0.3655</td>\n",
       "      <td>0.6050</td>\n",
       "    </tr>\n",
       "    <tr>\n",
       "      <th>97</th>\n",
       "      <td>0.3855</td>\n",
       "      <td>0.5970</td>\n",
       "    </tr>\n",
       "    <tr>\n",
       "      <th>98</th>\n",
       "      <td>0.3710</td>\n",
       "      <td>0.6190</td>\n",
       "    </tr>\n",
       "    <tr>\n",
       "      <th>99</th>\n",
       "      <td>0.3685</td>\n",
       "      <td>0.6235</td>\n",
       "    </tr>\n",
       "  </tbody>\n",
       "</table>\n",
       "<p>100 rows × 2 columns</p>\n",
       "</div>"
      ],
      "text/plain": [
       "    Blocked Calls Rate (%)  Dropped Calls Rate (%)\n",
       "0                   0.3270                  0.5825\n",
       "1                   0.3850                  0.5940\n",
       "2                   0.3555                  0.6095\n",
       "3                   0.3380                  0.5525\n",
       "4                   0.3610                  0.6310\n",
       "..                     ...                     ...\n",
       "95                  0.3425                  0.5910\n",
       "96                  0.3655                  0.6050\n",
       "97                  0.3855                  0.5970\n",
       "98                  0.3710                  0.6190\n",
       "99                  0.3685                  0.6235\n",
       "\n",
       "[100 rows x 2 columns]"
      ]
     },
     "execution_count": 3,
     "metadata": {},
     "output_type": "execute_result"
    }
   ],
   "source": [
    "output_no_reservation = output[output[\"Number of handover reservations\"] == 0] \\\n",
    "                                .reset_index(drop=True)\n",
    "del output_no_reservation[\"Number of handover reservations\"]\n",
    "output_no_reservation"
   ]
  },
  {
   "cell_type": "code",
   "execution_count": 4,
   "metadata": {
    "scrolled": true
   },
   "outputs": [
    {
     "data": {
      "text/html": [
       "<div>\n",
       "<style scoped>\n",
       "    .dataframe tbody tr th:only-of-type {\n",
       "        vertical-align: middle;\n",
       "    }\n",
       "\n",
       "    .dataframe tbody tr th {\n",
       "        vertical-align: top;\n",
       "    }\n",
       "\n",
       "    .dataframe thead th {\n",
       "        text-align: right;\n",
       "    }\n",
       "</style>\n",
       "<table border=\"1\" class=\"dataframe\">\n",
       "  <thead>\n",
       "    <tr style=\"text-align: right;\">\n",
       "      <th></th>\n",
       "      <th>Blocked Calls Rate (%)</th>\n",
       "      <th>Dropped Calls Rate (%)</th>\n",
       "    </tr>\n",
       "  </thead>\n",
       "  <tbody>\n",
       "    <tr>\n",
       "      <th>0</th>\n",
       "      <td>1.0625</td>\n",
       "      <td>0.3455</td>\n",
       "    </tr>\n",
       "    <tr>\n",
       "      <th>1</th>\n",
       "      <td>1.1550</td>\n",
       "      <td>0.3355</td>\n",
       "    </tr>\n",
       "    <tr>\n",
       "      <th>2</th>\n",
       "      <td>1.1595</td>\n",
       "      <td>0.3435</td>\n",
       "    </tr>\n",
       "    <tr>\n",
       "      <th>3</th>\n",
       "      <td>1.0925</td>\n",
       "      <td>0.3505</td>\n",
       "    </tr>\n",
       "    <tr>\n",
       "      <th>4</th>\n",
       "      <td>1.1340</td>\n",
       "      <td>0.3325</td>\n",
       "    </tr>\n",
       "    <tr>\n",
       "      <th>...</th>\n",
       "      <td>...</td>\n",
       "      <td>...</td>\n",
       "    </tr>\n",
       "    <tr>\n",
       "      <th>95</th>\n",
       "      <td>1.1225</td>\n",
       "      <td>0.3540</td>\n",
       "    </tr>\n",
       "    <tr>\n",
       "      <th>96</th>\n",
       "      <td>1.1080</td>\n",
       "      <td>0.3215</td>\n",
       "    </tr>\n",
       "    <tr>\n",
       "      <th>97</th>\n",
       "      <td>1.0835</td>\n",
       "      <td>0.3420</td>\n",
       "    </tr>\n",
       "    <tr>\n",
       "      <th>98</th>\n",
       "      <td>1.1045</td>\n",
       "      <td>0.3520</td>\n",
       "    </tr>\n",
       "    <tr>\n",
       "      <th>99</th>\n",
       "      <td>1.0780</td>\n",
       "      <td>0.3380</td>\n",
       "    </tr>\n",
       "  </tbody>\n",
       "</table>\n",
       "<p>100 rows × 2 columns</p>\n",
       "</div>"
      ],
      "text/plain": [
       "    Blocked Calls Rate (%)  Dropped Calls Rate (%)\n",
       "0                   1.0625                  0.3455\n",
       "1                   1.1550                  0.3355\n",
       "2                   1.1595                  0.3435\n",
       "3                   1.0925                  0.3505\n",
       "4                   1.1340                  0.3325\n",
       "..                     ...                     ...\n",
       "95                  1.1225                  0.3540\n",
       "96                  1.1080                  0.3215\n",
       "97                  1.0835                  0.3420\n",
       "98                  1.1045                  0.3520\n",
       "99                  1.0780                  0.3380\n",
       "\n",
       "[100 rows x 2 columns]"
      ]
     },
     "execution_count": 4,
     "metadata": {},
     "output_type": "execute_result"
    }
   ],
   "source": [
    "output_handover_reservation = output[output[\"Number of handover reservations\"] == 1] \\\n",
    "                                .reset_index(drop=True)\n",
    "del output_handover_reservation[\"Number of handover reservations\"]\n",
    "output_handover_reservation"
   ]
  },
  {
   "cell_type": "markdown",
   "metadata": {},
   "source": [
    "### 2. Calculate average values and indicate statistical significance"
   ]
  },
  {
   "cell_type": "code",
   "execution_count": 5,
   "metadata": {
    "scrolled": false
   },
   "outputs": [
    {
     "data": {
      "image/png": "[encoded data removed]",
      "text/plain": [
       "<Figure size 1080x432 with 2 Axes>"
      ]
     },
     "metadata": {},
     "output_type": "display_data"
    }
   ],
   "source": [
    "# Set the display\n",
    "sns.set_style('whitegrid')\n",
    "sns.set(rc={'figure.figsize':(15, 6)}, font_scale=1.5)\n",
    "\n",
    "# Set 2 subplots\n",
    "fig, axs = plt.subplots(ncols=2)\n",
    "fig.tight_layout(pad=2.0)\n",
    "\n",
    "# Plot the simulation outputs for both 2 FCA schemes\n",
    "sns.boxplot(data=output_no_reservation, ax=axs[0]) \\\n",
    "    .set(ylabel=\"Percentage (%)\", ylim=(0, 1.5), title=\"FCA Scheme with no reservation\")\n",
    "sns.boxplot(data=output_handover_reservation, ax=axs[1]) \\\n",
    "    .set(ylabel=\"Percentage (%)\", ylim=(0, 1.5), title=\"FCA Scheme with handover reservation\")\n",
    "\n",
    "plt.show()"
   ]
  },
  {
   "cell_type": "code",
   "execution_count": 6,
   "metadata": {},
   "outputs": [
    {
     "name": "stdout",
     "output_type": "stream",
     "text": [
      "FCA SCHEME WITH NO RESERVATION\n",
      "-----Blocked Calls Rate (%)-----\n",
      "Mean: 0.350885\n",
      "Standard Deviation: 0.016781\n",
      "-----Dropped Calls Rate (%)-----\n",
      "Mean: 0.592345\n",
      "Standard Deviation: 0.023145\n"
     ]
    }
   ],
   "source": [
    "blocked_rate_no_reservation = output_no_reservation['Blocked Calls Rate (%)']\n",
    "dropped_rate_no_reservation = output_no_reservation['Dropped Calls Rate (%)']\n",
    "\n",
    "# Calculate the mean and standard deviation\n",
    "print(\"FCA SCHEME WITH NO RESERVATION\")\n",
    "\n",
    "print(\"-----Blocked Calls Rate (%)-----\")\n",
    "print(\"Mean: {:f}\".format(blocked_rate_no_reservation.mean()))\n",
    "print(\"Standard Deviation: {:f}\".format(blocked_rate_no_reservation.std(ddof=1)))\n",
    "\n",
    "print(\"-----Dropped Calls Rate (%)-----\")\n",
    "print(\"Mean: {:f}\".format(dropped_rate_no_reservation.mean()))\n",
    "print(\"Standard Deviation: {:f}\".format(dropped_rate_no_reservation.std(ddof=1)))"
   ]
  },
  {
   "cell_type": "code",
   "execution_count": 7,
   "metadata": {},
   "outputs": [
    {
     "name": "stdout",
     "output_type": "stream",
     "text": [
      "FCA SCHEME WITH HANDOVER RESERVATION\n",
      "-----Blocked Calls Rate (%)-----\n",
      "Mean: 1.104285\n",
      "Standard Deviation: 0.029926\n",
      "-----Dropped Calls Rate (%)-----\n",
      "Mean: 0.344410\n",
      "Standard Deviation: 0.013829\n"
     ]
    }
   ],
   "source": [
    "blocked_rate_handover_reservation = output_handover_reservation['Blocked Calls Rate (%)']\n",
    "dropped_rate_handover_reservation = output_handover_reservation['Dropped Calls Rate (%)']\n",
    "\n",
    "# Calculate the mean and standard deviation\n",
    "print(\"FCA SCHEME WITH HANDOVER RESERVATION\")\n",
    "\n",
    "print(\"-----Blocked Calls Rate (%)-----\")\n",
    "print(\"Mean: {:f}\".format(blocked_rate_handover_reservation.mean()))\n",
    "print(\"Standard Deviation: {:f}\".format(blocked_rate_handover_reservation.std(ddof=1)))\n",
    "\n",
    "print(\"-----Dropped Calls Rate (%)-----\")\n",
    "print(\"Mean: {:f}\".format(dropped_rate_handover_reservation.mean()))\n",
    "print(\"Standard Deviation: {:f}\".format(dropped_rate_handover_reservation.std(ddof=1)))"
   ]
  },
  {
   "cell_type": "markdown",
   "metadata": {},
   "source": [
    "### 3. Output Analysis"
   ]
  },
  {
   "cell_type": "code",
   "execution_count": 8,
   "metadata": {},
   "outputs": [
    {
     "name": "stdout",
     "output_type": "stream",
     "text": [
      "FCA SCHEME WITH NO RESERVATION\n",
      "-----Blocked Calls Rate (%)-----\n",
      "Half-width: 0.002786\n",
      "Approximate 90% confidence interval: [0.348099, 0.353671]\n",
      "-----Dropped Calls Rate (%)-----\n",
      "Half-width: 0.003842\n",
      "Approximate 90% confidence interval: [0.588503, 0.596187]\n"
     ]
    }
   ],
   "source": [
    "t = 1.66\n",
    "n = 100\n",
    "\n",
    "print(\"FCA SCHEME WITH NO RESERVATION\")\n",
    "\n",
    "print(\"-----Blocked Calls Rate (%)-----\")\n",
    "# Calculate the mean and standard deviation\n",
    "mean1 = blocked_rate_no_reservation.mean()\n",
    "std1 = blocked_rate_no_reservation.std(ddof=1)\n",
    "delta1 = t*std1/(math.sqrt(n))\n",
    "# Get the confidence interval\n",
    "print(\"Half-width: {:f}\".format(delta1))\n",
    "print(\"Approximate 90% confidence interval: [{:f}, {:f}]\".format(mean1 - delta1, mean1 + delta1))\n",
    "\n",
    "print(\"-----Dropped Calls Rate (%)-----\")\n",
    "# Calculate the mean and standard deviation\n",
    "mean2 = dropped_rate_no_reservation.mean()\n",
    "std2 = dropped_rate_no_reservation.std(ddof=1)\n",
    "delta2 = t*std2/(math.sqrt(n))\n",
    "# Get the confidence interval\n",
    "print(\"Half-width: {:f}\".format(delta2))\n",
    "print(\"Approximate 90% confidence interval: [{:f}, {:f}]\".format(mean2 - delta2, mean2 + delta2))"
   ]
  },
  {
   "cell_type": "code",
   "execution_count": 9,
   "metadata": {},
   "outputs": [
    {
     "name": "stdout",
     "output_type": "stream",
     "text": [
      "FCA SCHEME WITH HANDOVER RESERVATION\n",
      "-----Blocked Calls Rate (%)-----\n",
      "Half-width: 0.004968\n",
      "Approximate 90% confidence interval: [1.099317, 1.109253]\n",
      "-----Dropped Calls Rate (%)-----\n",
      "Half-width: 0.002296\n",
      "Approximate 90% confidence interval: [0.342114, 0.346706]\n"
     ]
    }
   ],
   "source": [
    "t = 1.66\n",
    "n = 100\n",
    "\n",
    "print(\"FCA SCHEME WITH HANDOVER RESERVATION\")\n",
    "\n",
    "print(\"-----Blocked Calls Rate (%)-----\")\n",
    "# Calculate the mean and standard deviation\n",
    "mean3 = blocked_rate_handover_reservation.mean()\n",
    "std3 = blocked_rate_handover_reservation.std(ddof=1)\n",
    "delta3 = t*std3/(math.sqrt(n))\n",
    "# Get the confidence interval\n",
    "print(\"Half-width: {:f}\".format(delta3))\n",
    "print(\"Approximate 90% confidence interval: [{:f}, {:f}]\".format(mean3 - delta3, mean3 + delta3))\n",
    "\n",
    "print(\"-----Dropped Calls Rate (%)-----\")\n",
    "# Calculate the mean and standard deviation\n",
    "mean4 = dropped_rate_handover_reservation.mean()\n",
    "std4 = dropped_rate_handover_reservation.std(ddof=1)\n",
    "delta4 = t*std4/(math.sqrt(n))\n",
    "# Get the confidence interval\n",
    "print(\"Half-width: {:f}\".format(delta4))\n",
    "print(\"Approximate 90% confidence interval: [{:f}, {:f}]\".format(mean4 - delta4, mean4 + delta4))"
   ]
  },
  {
   "cell_type": "markdown",
   "metadata": {},
   "source": [
    "### 4. Comparisions between 2 FCA schemes"
   ]
  },
  {
   "cell_type": "markdown",
   "metadata": {},
   "source": [
    "#### Blocked Calls rate"
   ]
  },
  {
   "cell_type": "code",
   "execution_count": 10,
   "metadata": {},
   "outputs": [
    {
     "data": {
      "text/html": [
       "<div>\n",
       "<style scoped>\n",
       "    .dataframe tbody tr th:only-of-type {\n",
       "        vertical-align: middle;\n",
       "    }\n",
       "\n",
       "    .dataframe tbody tr th {\n",
       "        vertical-align: top;\n",
       "    }\n",
       "\n",
       "    .dataframe thead th {\n",
       "        text-align: right;\n",
       "    }\n",
       "</style>\n",
       "<table border=\"1\" class=\"dataframe\">\n",
       "  <thead>\n",
       "    <tr style=\"text-align: right;\">\n",
       "      <th></th>\n",
       "      <th>X_1r</th>\n",
       "      <th>X_2r</th>\n",
       "      <th>Z_r</th>\n",
       "    </tr>\n",
       "  </thead>\n",
       "  <tbody>\n",
       "    <tr>\n",
       "      <th>0</th>\n",
       "      <td>0.3270</td>\n",
       "      <td>1.0625</td>\n",
       "      <td>-0.7355</td>\n",
       "    </tr>\n",
       "    <tr>\n",
       "      <th>1</th>\n",
       "      <td>0.3850</td>\n",
       "      <td>1.1550</td>\n",
       "      <td>-0.7700</td>\n",
       "    </tr>\n",
       "    <tr>\n",
       "      <th>2</th>\n",
       "      <td>0.3555</td>\n",
       "      <td>1.1595</td>\n",
       "      <td>-0.8040</td>\n",
       "    </tr>\n",
       "    <tr>\n",
       "      <th>3</th>\n",
       "      <td>0.3380</td>\n",
       "      <td>1.0925</td>\n",
       "      <td>-0.7545</td>\n",
       "    </tr>\n",
       "    <tr>\n",
       "      <th>4</th>\n",
       "      <td>0.3610</td>\n",
       "      <td>1.1340</td>\n",
       "      <td>-0.7730</td>\n",
       "    </tr>\n",
       "    <tr>\n",
       "      <th>...</th>\n",
       "      <td>...</td>\n",
       "      <td>...</td>\n",
       "      <td>...</td>\n",
       "    </tr>\n",
       "    <tr>\n",
       "      <th>95</th>\n",
       "      <td>0.3425</td>\n",
       "      <td>1.1225</td>\n",
       "      <td>-0.7800</td>\n",
       "    </tr>\n",
       "    <tr>\n",
       "      <th>96</th>\n",
       "      <td>0.3655</td>\n",
       "      <td>1.1080</td>\n",
       "      <td>-0.7425</td>\n",
       "    </tr>\n",
       "    <tr>\n",
       "      <th>97</th>\n",
       "      <td>0.3855</td>\n",
       "      <td>1.0835</td>\n",
       "      <td>-0.6980</td>\n",
       "    </tr>\n",
       "    <tr>\n",
       "      <th>98</th>\n",
       "      <td>0.3710</td>\n",
       "      <td>1.1045</td>\n",
       "      <td>-0.7335</td>\n",
       "    </tr>\n",
       "    <tr>\n",
       "      <th>99</th>\n",
       "      <td>0.3685</td>\n",
       "      <td>1.0780</td>\n",
       "      <td>-0.7095</td>\n",
       "    </tr>\n",
       "  </tbody>\n",
       "</table>\n",
       "<p>100 rows × 3 columns</p>\n",
       "</div>"
      ],
      "text/plain": [
       "      X_1r    X_2r     Z_r\n",
       "0   0.3270  1.0625 -0.7355\n",
       "1   0.3850  1.1550 -0.7700\n",
       "2   0.3555  1.1595 -0.8040\n",
       "3   0.3380  1.0925 -0.7545\n",
       "4   0.3610  1.1340 -0.7730\n",
       "..     ...     ...     ...\n",
       "95  0.3425  1.1225 -0.7800\n",
       "96  0.3655  1.1080 -0.7425\n",
       "97  0.3855  1.0835 -0.6980\n",
       "98  0.3710  1.1045 -0.7335\n",
       "99  0.3685  1.0780 -0.7095\n",
       "\n",
       "[100 rows x 3 columns]"
      ]
     },
     "execution_count": 10,
     "metadata": {},
     "output_type": "execute_result"
    }
   ],
   "source": [
    "# Calculate the difference in Blocked Calls rate between 2 schemes\n",
    "Z_r_blocked_rate = blocked_rate_no_reservation - blocked_rate_handover_reservation\n",
    "data_blocked_rate = {\"X_1r\": blocked_rate_no_reservation,\n",
    "                     \"X_2r\": blocked_rate_handover_reservation,\n",
    "                     \"Z_r\": Z_r_blocked_rate}\n",
    "df_blocked_rate = pd.DataFrame(data_blocked_rate)\n",
    "df_blocked_rate"
   ]
  },
  {
   "cell_type": "code",
   "execution_count": 11,
   "metadata": {
    "scrolled": false
   },
   "outputs": [
    {
     "name": "stdout",
     "output_type": "stream",
     "text": [
      "-----DIFFRENCE IN BLOCKED CALLS RATE-----\n",
      "Mean: -0.753400\n",
      "Standard Deviation: 0.031760\n",
      "Half-width: 0.005272\n",
      "Approximate 90% confidence interval: [-0.758672, -0.748128]\n"
     ]
    }
   ],
   "source": [
    "# Calculate the mean and standard deviation\n",
    "mean5 = Z_r_blocked_rate.mean()\n",
    "std5 = Z_r_blocked_rate.std(ddof=1)\n",
    "# Get the confidence interval\n",
    "t = 1.66\n",
    "n = 100\n",
    "delta5 = t*std5/(math.sqrt(n))\n",
    "\n",
    "print(\"-----DIFFRENCE IN BLOCKED CALLS RATE-----\")\n",
    "print(\"Mean: {:f}\".format(mean5))\n",
    "print(\"Standard Deviation: {:f}\".format(std5))\n",
    "print(\"Half-width: {:f}\".format(delta5))\n",
    "print(\"Approximate 90% confidence interval: [{:f}, {:f}]\".format(mean5 -delta5, mean5 + delta5))"
   ]
  },
  {
   "cell_type": "markdown",
   "metadata": {},
   "source": [
    "The system with FCA scheme in which there is no reservation\n",
    "\n",
    "is better because it completely has a lower Blocked Calls rate "
   ]
  },
  {
   "cell_type": "markdown",
   "metadata": {},
   "source": [
    "#### Dropped Calls rate"
   ]
  },
  {
   "cell_type": "code",
   "execution_count": 12,
   "metadata": {},
   "outputs": [
    {
     "data": {
      "text/html": [
       "<div>\n",
       "<style scoped>\n",
       "    .dataframe tbody tr th:only-of-type {\n",
       "        vertical-align: middle;\n",
       "    }\n",
       "\n",
       "    .dataframe tbody tr th {\n",
       "        vertical-align: top;\n",
       "    }\n",
       "\n",
       "    .dataframe thead th {\n",
       "        text-align: right;\n",
       "    }\n",
       "</style>\n",
       "<table border=\"1\" class=\"dataframe\">\n",
       "  <thead>\n",
       "    <tr style=\"text-align: right;\">\n",
       "      <th></th>\n",
       "      <th>X_1r</th>\n",
       "      <th>X_2r</th>\n",
       "      <th>Z_r</th>\n",
       "    </tr>\n",
       "  </thead>\n",
       "  <tbody>\n",
       "    <tr>\n",
       "      <th>0</th>\n",
       "      <td>0.5825</td>\n",
       "      <td>0.3455</td>\n",
       "      <td>0.2370</td>\n",
       "    </tr>\n",
       "    <tr>\n",
       "      <th>1</th>\n",
       "      <td>0.5940</td>\n",
       "      <td>0.3355</td>\n",
       "      <td>0.2585</td>\n",
       "    </tr>\n",
       "    <tr>\n",
       "      <th>2</th>\n",
       "      <td>0.6095</td>\n",
       "      <td>0.3435</td>\n",
       "      <td>0.2660</td>\n",
       "    </tr>\n",
       "    <tr>\n",
       "      <th>3</th>\n",
       "      <td>0.5525</td>\n",
       "      <td>0.3505</td>\n",
       "      <td>0.2020</td>\n",
       "    </tr>\n",
       "    <tr>\n",
       "      <th>4</th>\n",
       "      <td>0.6310</td>\n",
       "      <td>0.3325</td>\n",
       "      <td>0.2985</td>\n",
       "    </tr>\n",
       "    <tr>\n",
       "      <th>...</th>\n",
       "      <td>...</td>\n",
       "      <td>...</td>\n",
       "      <td>...</td>\n",
       "    </tr>\n",
       "    <tr>\n",
       "      <th>95</th>\n",
       "      <td>0.5910</td>\n",
       "      <td>0.3540</td>\n",
       "      <td>0.2370</td>\n",
       "    </tr>\n",
       "    <tr>\n",
       "      <th>96</th>\n",
       "      <td>0.6050</td>\n",
       "      <td>0.3215</td>\n",
       "      <td>0.2835</td>\n",
       "    </tr>\n",
       "    <tr>\n",
       "      <th>97</th>\n",
       "      <td>0.5970</td>\n",
       "      <td>0.3420</td>\n",
       "      <td>0.2550</td>\n",
       "    </tr>\n",
       "    <tr>\n",
       "      <th>98</th>\n",
       "      <td>0.6190</td>\n",
       "      <td>0.3520</td>\n",
       "      <td>0.2670</td>\n",
       "    </tr>\n",
       "    <tr>\n",
       "      <th>99</th>\n",
       "      <td>0.6235</td>\n",
       "      <td>0.3380</td>\n",
       "      <td>0.2855</td>\n",
       "    </tr>\n",
       "  </tbody>\n",
       "</table>\n",
       "<p>100 rows × 3 columns</p>\n",
       "</div>"
      ],
      "text/plain": [
       "      X_1r    X_2r     Z_r\n",
       "0   0.5825  0.3455  0.2370\n",
       "1   0.5940  0.3355  0.2585\n",
       "2   0.6095  0.3435  0.2660\n",
       "3   0.5525  0.3505  0.2020\n",
       "4   0.6310  0.3325  0.2985\n",
       "..     ...     ...     ...\n",
       "95  0.5910  0.3540  0.2370\n",
       "96  0.6050  0.3215  0.2835\n",
       "97  0.5970  0.3420  0.2550\n",
       "98  0.6190  0.3520  0.2670\n",
       "99  0.6235  0.3380  0.2855\n",
       "\n",
       "[100 rows x 3 columns]"
      ]
     },
     "execution_count": 12,
     "metadata": {},
     "output_type": "execute_result"
    }
   ],
   "source": [
    "# Calculate the difference in Dropped Calls rate between 2 schemes\n",
    "Z_r_dropped_rate = dropped_rate_no_reservation - dropped_rate_handover_reservation\n",
    "data_dropped_rate = {\"X_1r\": dropped_rate_no_reservation,\n",
    "                     \"X_2r\": dropped_rate_handover_reservation,\n",
    "                     \"Z_r\": Z_r_dropped_rate}\n",
    "data_dropped_rate = pd.DataFrame(data_dropped_rate)\n",
    "data_dropped_rate"
   ]
  },
  {
   "cell_type": "code",
   "execution_count": 13,
   "metadata": {
    "scrolled": true
   },
   "outputs": [
    {
     "name": "stdout",
     "output_type": "stream",
     "text": [
      "-----DIFFRENCE IN DROPPED CALLS RATE-----\n",
      "Mean: 0.247935\n",
      "Standard Deviation: 0.027140\n",
      "Half-width: 0.004505\n",
      "Approximate 90% confidence interval: [0.243430, 0.252440]\n"
     ]
    }
   ],
   "source": [
    "# Calculate the mean and standard deviation\n",
    "mean6 = Z_r_dropped_rate.mean()\n",
    "std6 = Z_r_dropped_rate.std(ddof=1)\n",
    "# Get the confidence interval\n",
    "t = 1.66\n",
    "n = 100\n",
    "delta6 = t*std6/(math.sqrt(n))\n",
    "\n",
    "print(\"-----DIFFRENCE IN DROPPED CALLS RATE-----\")\n",
    "print(\"Mean: {:f}\".format(mean6))\n",
    "print(\"Standard Deviation: {:f}\".format(std6))\n",
    "print(\"Half-width: {:f}\".format(delta6))\n",
    "print(\"Approximate 90% confidence interval: [{:f}, {:f}]\".format(mean6 -delta6, mean6 + delta6))"
   ]
  },
  {
   "cell_type": "markdown",
   "metadata": {},
   "source": [
    "The system with FCA scheme in which there is 1 channel reserved for call handover\n",
    "\n",
    "is better because it completely has a lower Dropped Calls rate "
   ]
  },
  {
   "cell_type": "markdown",
   "metadata": {},
   "source": [
    "#### Comparisions FCA Schemes with different handover reservations"
   ]
  },
  {
   "cell_type": "code",
   "execution_count": 14,
   "metadata": {},
   "outputs": [
    {
     "data": {
      "text/html": [
       "<div>\n",
       "<style scoped>\n",
       "    .dataframe tbody tr th:only-of-type {\n",
       "        vertical-align: middle;\n",
       "    }\n",
       "\n",
       "    .dataframe tbody tr th {\n",
       "        vertical-align: top;\n",
       "    }\n",
       "\n",
       "    .dataframe thead th {\n",
       "        text-align: right;\n",
       "    }\n",
       "</style>\n",
       "<table border=\"1\" class=\"dataframe\">\n",
       "  <thead>\n",
       "    <tr style=\"text-align: right;\">\n",
       "      <th></th>\n",
       "      <th>Number of handover reservations</th>\n",
       "      <th>Blocked Calls rate (%)</th>\n",
       "      <th>Dropped Calls rate (%)</th>\n",
       "    </tr>\n",
       "  </thead>\n",
       "  <tbody>\n",
       "    <tr>\n",
       "      <th>0</th>\n",
       "      <td>0</td>\n",
       "      <td>0.3535</td>\n",
       "      <td>0.5910</td>\n",
       "    </tr>\n",
       "    <tr>\n",
       "      <th>1</th>\n",
       "      <td>1</td>\n",
       "      <td>1.0840</td>\n",
       "      <td>0.3415</td>\n",
       "    </tr>\n",
       "    <tr>\n",
       "      <th>2</th>\n",
       "      <td>2</td>\n",
       "      <td>2.6885</td>\n",
       "      <td>0.1745</td>\n",
       "    </tr>\n",
       "    <tr>\n",
       "      <th>3</th>\n",
       "      <td>3</td>\n",
       "      <td>5.5225</td>\n",
       "      <td>0.0735</td>\n",
       "    </tr>\n",
       "    <tr>\n",
       "      <th>4</th>\n",
       "      <td>4</td>\n",
       "      <td>10.3865</td>\n",
       "      <td>0.0255</td>\n",
       "    </tr>\n",
       "    <tr>\n",
       "      <th>5</th>\n",
       "      <td>5</td>\n",
       "      <td>17.4980</td>\n",
       "      <td>0.0020</td>\n",
       "    </tr>\n",
       "    <tr>\n",
       "      <th>6</th>\n",
       "      <td>6</td>\n",
       "      <td>27.3620</td>\n",
       "      <td>0.0005</td>\n",
       "    </tr>\n",
       "    <tr>\n",
       "      <th>7</th>\n",
       "      <td>7</td>\n",
       "      <td>39.9855</td>\n",
       "      <td>0.0000</td>\n",
       "    </tr>\n",
       "    <tr>\n",
       "      <th>8</th>\n",
       "      <td>8</td>\n",
       "      <td>55.2330</td>\n",
       "      <td>0.0000</td>\n",
       "    </tr>\n",
       "    <tr>\n",
       "      <th>9</th>\n",
       "      <td>9</td>\n",
       "      <td>73.4070</td>\n",
       "      <td>0.0000</td>\n",
       "    </tr>\n",
       "  </tbody>\n",
       "</table>\n",
       "</div>"
      ],
      "text/plain": [
       "   Number of handover reservations  Blocked Calls rate (%)  \\\n",
       "0                                0                  0.3535   \n",
       "1                                1                  1.0840   \n",
       "2                                2                  2.6885   \n",
       "3                                3                  5.5225   \n",
       "4                                4                 10.3865   \n",
       "5                                5                 17.4980   \n",
       "6                                6                 27.3620   \n",
       "7                                7                 39.9855   \n",
       "8                                8                 55.2330   \n",
       "9                                9                 73.4070   \n",
       "\n",
       "   Dropped Calls rate (%)  \n",
       "0                  0.5910  \n",
       "1                  0.3415  \n",
       "2                  0.1745  \n",
       "3                  0.0735  \n",
       "4                  0.0255  \n",
       "5                  0.0020  \n",
       "6                  0.0005  \n",
       "7                  0.0000  \n",
       "8                  0.0000  \n",
       "9                  0.0000  "
      ]
     },
     "execution_count": 14,
     "metadata": {},
     "output_type": "execute_result"
    }
   ],
   "source": [
    "# Read the csv files\n",
    "reservations = pd.read_csv(\"../reservations.csv\", header=None)\n",
    "reservations.columns = ['Number of handover reservations', \\\n",
    "                        'Blocked Calls rate (%)', 'Dropped Calls rate (%)']\n",
    "reservations.head(10)"
   ]
  }
 ],
 "metadata": {
  "kernelspec": {
   "display_name": "simulation",
   "language": "python",
   "name": "env"
  },
  "language_info": {
   "codemirror_mode": {
    "name": "ipython",
    "version": 3
   },
   "file_extension": ".py",
   "mimetype": "text/x-python",
   "name": "python",
   "nbconvert_exporter": "python",
   "pygments_lexer": "ipython3",
   "version": "3.7.7"
  }
 },
 "nbformat": 4,
 "nbformat_minor": 4
}
