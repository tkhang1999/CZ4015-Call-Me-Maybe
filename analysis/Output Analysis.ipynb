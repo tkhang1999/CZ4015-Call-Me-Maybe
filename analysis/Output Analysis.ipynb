{
 "cells": [
  {
   "cell_type": "code",
   "execution_count": 1,
   "metadata": {},
   "outputs": [],
   "source": [
    "import pandas as pd\n",
    "import numpy as np\n",
    "import matplotlib.pyplot as plt\n",
    "import seaborn as sns\n",
    "import math"
   ]
  },
  {
   "cell_type": "markdown",
   "metadata": {},
   "source": [
    "### 1. Outputs Overview"
   ]
  },
  {
   "cell_type": "code",
   "execution_count": 2,
   "metadata": {},
   "outputs": [],
   "source": [
    "# Read the csv file\n",
    "output = pd.read_csv('../output_analysis.csv', header=None)\n",
    "\n",
    "# Set names and constants\n",
    "output.columns = [\"Blocked Calls Rate (%)\", \"Dropped Calls Rate (%)\"]\n",
    "total_runs = 100"
   ]
  },
  {
   "cell_type": "code",
   "execution_count": 3,
   "metadata": {},
   "outputs": [
    {
     "data": {
      "text/html": [
       "<div>\n",
       "<style scoped>\n",
       "    .dataframe tbody tr th:only-of-type {\n",
       "        vertical-align: middle;\n",
       "    }\n",
       "\n",
       "    .dataframe tbody tr th {\n",
       "        vertical-align: top;\n",
       "    }\n",
       "\n",
       "    .dataframe thead th {\n",
       "        text-align: right;\n",
       "    }\n",
       "</style>\n",
       "<table border=\"1\" class=\"dataframe\">\n",
       "  <thead>\n",
       "    <tr style=\"text-align: right;\">\n",
       "      <th></th>\n",
       "      <th>Blocked Calls Rate (%)</th>\n",
       "      <th>Dropped Calls Rate (%)</th>\n",
       "    </tr>\n",
       "  </thead>\n",
       "  <tbody>\n",
       "    <tr>\n",
       "      <th>0</th>\n",
       "      <td>0.455</td>\n",
       "      <td>0.766</td>\n",
       "    </tr>\n",
       "    <tr>\n",
       "      <th>1</th>\n",
       "      <td>0.480</td>\n",
       "      <td>0.794</td>\n",
       "    </tr>\n",
       "    <tr>\n",
       "      <th>2</th>\n",
       "      <td>0.440</td>\n",
       "      <td>0.741</td>\n",
       "    </tr>\n",
       "    <tr>\n",
       "      <th>3</th>\n",
       "      <td>0.481</td>\n",
       "      <td>0.731</td>\n",
       "    </tr>\n",
       "    <tr>\n",
       "      <th>4</th>\n",
       "      <td>0.415</td>\n",
       "      <td>0.739</td>\n",
       "    </tr>\n",
       "    <tr>\n",
       "      <th>...</th>\n",
       "      <td>...</td>\n",
       "      <td>...</td>\n",
       "    </tr>\n",
       "    <tr>\n",
       "      <th>95</th>\n",
       "      <td>0.449</td>\n",
       "      <td>0.807</td>\n",
       "    </tr>\n",
       "    <tr>\n",
       "      <th>96</th>\n",
       "      <td>0.456</td>\n",
       "      <td>0.768</td>\n",
       "    </tr>\n",
       "    <tr>\n",
       "      <th>97</th>\n",
       "      <td>0.440</td>\n",
       "      <td>0.771</td>\n",
       "    </tr>\n",
       "    <tr>\n",
       "      <th>98</th>\n",
       "      <td>0.425</td>\n",
       "      <td>0.758</td>\n",
       "    </tr>\n",
       "    <tr>\n",
       "      <th>99</th>\n",
       "      <td>0.472</td>\n",
       "      <td>0.737</td>\n",
       "    </tr>\n",
       "  </tbody>\n",
       "</table>\n",
       "<p>100 rows × 2 columns</p>\n",
       "</div>"
      ],
      "text/plain": [
       "    Blocked Calls Rate (%)  Dropped Calls Rate (%)\n",
       "0                    0.455                   0.766\n",
       "1                    0.480                   0.794\n",
       "2                    0.440                   0.741\n",
       "3                    0.481                   0.731\n",
       "4                    0.415                   0.739\n",
       "..                     ...                     ...\n",
       "95                   0.449                   0.807\n",
       "96                   0.456                   0.768\n",
       "97                   0.440                   0.771\n",
       "98                   0.425                   0.758\n",
       "99                   0.472                   0.737\n",
       "\n",
       "[100 rows x 2 columns]"
      ]
     },
     "execution_count": 3,
     "metadata": {},
     "output_type": "execute_result"
    }
   ],
   "source": [
    "output_no_reservation = output.loc[:total_runs - 1].reset_index(drop=True)\n",
    "output_no_reservation"
   ]
  },
  {
   "cell_type": "code",
   "execution_count": 4,
   "metadata": {
    "scrolled": true
   },
   "outputs": [
    {
     "data": {
      "text/html": [
       "<div>\n",
       "<style scoped>\n",
       "    .dataframe tbody tr th:only-of-type {\n",
       "        vertical-align: middle;\n",
       "    }\n",
       "\n",
       "    .dataframe tbody tr th {\n",
       "        vertical-align: top;\n",
       "    }\n",
       "\n",
       "    .dataframe thead th {\n",
       "        text-align: right;\n",
       "    }\n",
       "</style>\n",
       "<table border=\"1\" class=\"dataframe\">\n",
       "  <thead>\n",
       "    <tr style=\"text-align: right;\">\n",
       "      <th></th>\n",
       "      <th>Blocked Calls Rate (%)</th>\n",
       "      <th>Dropped Calls Rate (%)</th>\n",
       "    </tr>\n",
       "  </thead>\n",
       "  <tbody>\n",
       "    <tr>\n",
       "      <th>0</th>\n",
       "      <td>1.386</td>\n",
       "      <td>0.454</td>\n",
       "    </tr>\n",
       "    <tr>\n",
       "      <th>1</th>\n",
       "      <td>1.395</td>\n",
       "      <td>0.490</td>\n",
       "    </tr>\n",
       "    <tr>\n",
       "      <th>2</th>\n",
       "      <td>1.389</td>\n",
       "      <td>0.472</td>\n",
       "    </tr>\n",
       "    <tr>\n",
       "      <th>3</th>\n",
       "      <td>1.443</td>\n",
       "      <td>0.520</td>\n",
       "    </tr>\n",
       "    <tr>\n",
       "      <th>4</th>\n",
       "      <td>1.326</td>\n",
       "      <td>0.426</td>\n",
       "    </tr>\n",
       "    <tr>\n",
       "      <th>...</th>\n",
       "      <td>...</td>\n",
       "      <td>...</td>\n",
       "    </tr>\n",
       "    <tr>\n",
       "      <th>95</th>\n",
       "      <td>1.450</td>\n",
       "      <td>0.462</td>\n",
       "    </tr>\n",
       "    <tr>\n",
       "      <th>96</th>\n",
       "      <td>1.364</td>\n",
       "      <td>0.456</td>\n",
       "    </tr>\n",
       "    <tr>\n",
       "      <th>97</th>\n",
       "      <td>1.299</td>\n",
       "      <td>0.446</td>\n",
       "    </tr>\n",
       "    <tr>\n",
       "      <th>98</th>\n",
       "      <td>1.452</td>\n",
       "      <td>0.503</td>\n",
       "    </tr>\n",
       "    <tr>\n",
       "      <th>99</th>\n",
       "      <td>1.378</td>\n",
       "      <td>0.490</td>\n",
       "    </tr>\n",
       "  </tbody>\n",
       "</table>\n",
       "<p>100 rows × 2 columns</p>\n",
       "</div>"
      ],
      "text/plain": [
       "    Blocked Calls Rate (%)  Dropped Calls Rate (%)\n",
       "0                    1.386                   0.454\n",
       "1                    1.395                   0.490\n",
       "2                    1.389                   0.472\n",
       "3                    1.443                   0.520\n",
       "4                    1.326                   0.426\n",
       "..                     ...                     ...\n",
       "95                   1.450                   0.462\n",
       "96                   1.364                   0.456\n",
       "97                   1.299                   0.446\n",
       "98                   1.452                   0.503\n",
       "99                   1.378                   0.490\n",
       "\n",
       "[100 rows x 2 columns]"
      ]
     },
     "execution_count": 4,
     "metadata": {},
     "output_type": "execute_result"
    }
   ],
   "source": [
    "output_handover_reservation = output.loc[total_runs:].reset_index(drop=True)\n",
    "output_handover_reservation"
   ]
  },
  {
   "cell_type": "markdown",
   "metadata": {},
   "source": [
    "### 2. Calculate average values and indicate statistical significance"
   ]
  },
  {
   "cell_type": "code",
   "execution_count": 5,
   "metadata": {
    "scrolled": false
   },
   "outputs": [
    {
     "data": {
      "image/png": "[encoded data removed]",
      "text/plain": [
       "<Figure size 1080x432 with 2 Axes>"
      ]
     },
     "metadata": {},
     "output_type": "display_data"
    }
   ],
   "source": [
    "# Set the display\n",
    "sns.set_style('whitegrid')\n",
    "sns.set(rc={'figure.figsize':(15, 6)}, font_scale=1.4)\n",
    "\n",
    "# Set 2 subplots\n",
    "fig, axs = plt.subplots(ncols=2)\n",
    "fig.tight_layout(pad=2.0)\n",
    "\n",
    "# Plot the simulation outputs for both 2 FCA schemes\n",
    "sns.lineplot(data=output_no_reservation, ax=axs[0]) \\\n",
    "    .set(ylabel=\"Percentage (%)\", ylim=(0, 2), title=\"FCA Scheme with no reservation\")\n",
    "sns.lineplot(data=output_handover_reservation, ax=axs[1]) \\\n",
    "    .set(ylabel=\"Percentage (%)\", ylim=(0, 2), title=\"FCA Scheme with handover reservation\")\n",
    "\n",
    "plt.show()"
   ]
  },
  {
   "cell_type": "code",
   "execution_count": 6,
   "metadata": {},
   "outputs": [
    {
     "name": "stdout",
     "output_type": "stream",
     "text": [
      "FCA SCHEME WITH NO RESERVATION\n",
      "-----Blocked Calls Rate (%)-----\n",
      "Mean: 0.453340\n",
      "Standard Deviation: 0.016858\n",
      "-----Dropped Calls Rate (%)-----\n",
      "Mean: 0.755570\n",
      "Standard Deviation: 0.030646\n"
     ]
    }
   ],
   "source": [
    "blocked_rate_no_reservation = output_no_reservation['Blocked Calls Rate (%)']\n",
    "dropped_rate_no_reservation = output_no_reservation['Dropped Calls Rate (%)']\n",
    "\n",
    "print(\"FCA SCHEME WITH NO RESERVATION\")\n",
    "\n",
    "print(\"-----Blocked Calls Rate (%)-----\")\n",
    "print(\"Mean: {:f}\".format(blocked_rate_no_reservation.mean()))\n",
    "print(\"Standard Deviation: {:f}\".format(blocked_rate_no_reservation.std(ddof=1)))\n",
    "\n",
    "print(\"-----Dropped Calls Rate (%)-----\")\n",
    "print(\"Mean: {:f}\".format(dropped_rate_no_reservation.mean()))\n",
    "print(\"Standard Deviation: {:f}\".format(dropped_rate_no_reservation.std(ddof=1)))"
   ]
  },
  {
   "cell_type": "code",
   "execution_count": 7,
   "metadata": {},
   "outputs": [
    {
     "name": "stdout",
     "output_type": "stream",
     "text": [
      "FCA SCHEME WITH HANDOVER RESERVATION\n",
      "-----Blocked Calls Rate (%)-----\n",
      "Mean: 1.390140\n",
      "Standard Deviation: 0.038146\n",
      "-----Dropped Calls Rate (%)-----\n",
      "Mean: 0.469810\n",
      "Standard Deviation: 0.023993\n"
     ]
    }
   ],
   "source": [
    "blocked_rate_handover_reservation = output_handover_reservation['Blocked Calls Rate (%)']\n",
    "dropped_rate_handover_reservation = output_handover_reservation['Dropped Calls Rate (%)']\n",
    "\n",
    "print(\"FCA SCHEME WITH HANDOVER RESERVATION\")\n",
    "\n",
    "print(\"-----Blocked Calls Rate (%)-----\")\n",
    "print(\"Mean: {:f}\".format(blocked_rate_handover_reservation.mean()))\n",
    "print(\"Standard Deviation: {:f}\".format(blocked_rate_handover_reservation.std(ddof=1)))\n",
    "\n",
    "print(\"-----Dropped Calls Rate (%)-----\")\n",
    "print(\"Mean: {:f}\".format(dropped_rate_handover_reservation.mean()))\n",
    "print(\"Standard Deviation: {:f}\".format(dropped_rate_handover_reservation.std(ddof=1)))"
   ]
  },
  {
   "cell_type": "markdown",
   "metadata": {},
   "source": [
    "### 3. Output Analysis"
   ]
  },
  {
   "cell_type": "code",
   "execution_count": 8,
   "metadata": {},
   "outputs": [
    {
     "name": "stdout",
     "output_type": "stream",
     "text": [
      "FCA SCHEME WITH NO RESERVATION\n",
      "-----Blocked Calls Rate (%)-----\n",
      "Delta: 0.002798\n",
      "90% confidence interval: [0.450542, 0.456138]\n",
      "-----Dropped Calls Rate (%)-----\n",
      "Delta: 0.005087\n",
      "90% confidence interval: [0.750483, 0.760657]\n"
     ]
    }
   ],
   "source": [
    "t = 1.66\n",
    "n = 100\n",
    "\n",
    "print(\"FCA SCHEME WITH NO RESERVATION\")\n",
    "\n",
    "print(\"-----Blocked Calls Rate (%)-----\")\n",
    "mean1 = blocked_rate_no_reservation.mean()\n",
    "std1 = blocked_rate_no_reservation.std(ddof=1)\n",
    "delta1 = t*std1/(math.sqrt(n))\n",
    "print(\"Delta: {:f}\".format(delta1))\n",
    "print(\"90% confidence interval: [{:f}, {:f}]\" \\\n",
    "      .format(mean1 - delta1, mean1 + delta1))\n",
    "\n",
    "print(\"-----Dropped Calls Rate (%)-----\")\n",
    "mean2 = dropped_rate_no_reservation.mean()\n",
    "std2 = dropped_rate_no_reservation.std(ddof=1)\n",
    "delta2 = t*std2/(math.sqrt(n))\n",
    "print(\"Delta: {:f}\".format(delta2))\n",
    "print(\"90% confidence interval: [{:f}, {:f}]\" \\\n",
    "      .format(mean2 - delta2, mean2 + delta2))"
   ]
  },
  {
   "cell_type": "code",
   "execution_count": 9,
   "metadata": {},
   "outputs": [
    {
     "name": "stdout",
     "output_type": "stream",
     "text": [
      "FCA SCHEME WITH HANDOVER RESERVATION\n",
      "-----Blocked Calls Rate (%)-----\n",
      "Delta: 0.006332\n",
      "90% confidence interval: [1.383808, 1.396472]\n",
      "-----Dropped Calls Rate (%)-----\n",
      "Delta: 0.003983\n",
      "90% confidence interval: [0.465827, 0.473793]\n"
     ]
    }
   ],
   "source": [
    "t = 1.66\n",
    "n = 100\n",
    "\n",
    "print(\"FCA SCHEME WITH HANDOVER RESERVATION\")\n",
    "\n",
    "print(\"-----Blocked Calls Rate (%)-----\")\n",
    "mean3 = blocked_rate_handover_reservation.mean()\n",
    "std3 = blocked_rate_handover_reservation.std(ddof=1)\n",
    "delta3 = t*std3/(math.sqrt(n))\n",
    "print(\"Delta: {:f}\".format(delta3))\n",
    "print(\"90% confidence interval: [{:f}, {:f}]\" \\\n",
    "      .format(mean3 - delta3, mean3 + delta3))\n",
    "\n",
    "print(\"-----Dropped Calls Rate (%)-----\")\n",
    "mean4 = dropped_rate_handover_reservation.mean()\n",
    "std4 = dropped_rate_handover_reservation.std(ddof=1)\n",
    "delta4 = t*std4/(math.sqrt(n))\n",
    "print(\"Delta: {:f}\".format(delta4))\n",
    "print(\"90% confidence interval: [{:f}, {:f}]\" \\\n",
    "      .format(mean4 -delta4, mean4 + delta4))"
   ]
  },
  {
   "cell_type": "code",
   "execution_count": null,
   "metadata": {},
   "outputs": [],
   "source": []
  }
 ],
 "metadata": {
  "kernelspec": {
   "display_name": "simulation",
   "language": "python",
   "name": "env"
  },
  "language_info": {
   "codemirror_mode": {
    "name": "ipython",
    "version": 3
   },
   "file_extension": ".py",
   "mimetype": "text/x-python",
   "name": "python",
   "nbconvert_exporter": "python",
   "pygments_lexer": "ipython3",
   "version": "3.7.7"
  }
 },
 "nbformat": 4,
 "nbformat_minor": 4
}
