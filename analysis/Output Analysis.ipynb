{
 "cells": [
  {
   "cell_type": "code",
   "execution_count": 1,
   "metadata": {},
   "outputs": [],
   "source": [
    "import pandas as pd\n",
    "import numpy as np\n",
    "import matplotlib.pyplot as plt\n",
    "import seaborn as sns\n",
    "import math"
   ]
  },
  {
   "cell_type": "markdown",
   "metadata": {},
   "source": [
    "### 1. Outputs Overview"
   ]
  },
  {
   "cell_type": "code",
   "execution_count": 2,
   "metadata": {},
   "outputs": [],
   "source": [
    "# Read the csv file\n",
    "output = pd.read_csv('../output_analysis.csv', header=None)\n",
    "\n",
    "# Set names and constants\n",
    "output.columns = [\"Blocked Calls Rate (%)\", \"Dropped Calls Rate (%)\"]\n",
    "total_runs = 100"
   ]
  },
  {
   "cell_type": "code",
   "execution_count": 3,
   "metadata": {},
   "outputs": [
    {
     "data": {
      "text/html": [
       "<div>\n",
       "<style scoped>\n",
       "    .dataframe tbody tr th:only-of-type {\n",
       "        vertical-align: middle;\n",
       "    }\n",
       "\n",
       "    .dataframe tbody tr th {\n",
       "        vertical-align: top;\n",
       "    }\n",
       "\n",
       "    .dataframe thead th {\n",
       "        text-align: right;\n",
       "    }\n",
       "</style>\n",
       "<table border=\"1\" class=\"dataframe\">\n",
       "  <thead>\n",
       "    <tr style=\"text-align: right;\">\n",
       "      <th></th>\n",
       "      <th>Blocked Calls Rate (%)</th>\n",
       "      <th>Dropped Calls Rate (%)</th>\n",
       "    </tr>\n",
       "  </thead>\n",
       "  <tbody>\n",
       "    <tr>\n",
       "      <th>0</th>\n",
       "      <td>0.3525</td>\n",
       "      <td>0.5820</td>\n",
       "    </tr>\n",
       "    <tr>\n",
       "      <th>1</th>\n",
       "      <td>0.3580</td>\n",
       "      <td>0.6000</td>\n",
       "    </tr>\n",
       "    <tr>\n",
       "      <th>2</th>\n",
       "      <td>0.3615</td>\n",
       "      <td>0.5575</td>\n",
       "    </tr>\n",
       "    <tr>\n",
       "      <th>3</th>\n",
       "      <td>0.3380</td>\n",
       "      <td>0.5885</td>\n",
       "    </tr>\n",
       "    <tr>\n",
       "      <th>4</th>\n",
       "      <td>0.3390</td>\n",
       "      <td>0.5685</td>\n",
       "    </tr>\n",
       "    <tr>\n",
       "      <th>...</th>\n",
       "      <td>...</td>\n",
       "      <td>...</td>\n",
       "    </tr>\n",
       "    <tr>\n",
       "      <th>95</th>\n",
       "      <td>0.3495</td>\n",
       "      <td>0.5980</td>\n",
       "    </tr>\n",
       "    <tr>\n",
       "      <th>96</th>\n",
       "      <td>0.3360</td>\n",
       "      <td>0.5540</td>\n",
       "    </tr>\n",
       "    <tr>\n",
       "      <th>97</th>\n",
       "      <td>0.3550</td>\n",
       "      <td>0.5985</td>\n",
       "    </tr>\n",
       "    <tr>\n",
       "      <th>98</th>\n",
       "      <td>0.3300</td>\n",
       "      <td>0.5270</td>\n",
       "    </tr>\n",
       "    <tr>\n",
       "      <th>99</th>\n",
       "      <td>0.3450</td>\n",
       "      <td>0.6250</td>\n",
       "    </tr>\n",
       "  </tbody>\n",
       "</table>\n",
       "<p>100 rows × 2 columns</p>\n",
       "</div>"
      ],
      "text/plain": [
       "    Blocked Calls Rate (%)  Dropped Calls Rate (%)\n",
       "0                   0.3525                  0.5820\n",
       "1                   0.3580                  0.6000\n",
       "2                   0.3615                  0.5575\n",
       "3                   0.3380                  0.5885\n",
       "4                   0.3390                  0.5685\n",
       "..                     ...                     ...\n",
       "95                  0.3495                  0.5980\n",
       "96                  0.3360                  0.5540\n",
       "97                  0.3550                  0.5985\n",
       "98                  0.3300                  0.5270\n",
       "99                  0.3450                  0.6250\n",
       "\n",
       "[100 rows x 2 columns]"
      ]
     },
     "execution_count": 3,
     "metadata": {},
     "output_type": "execute_result"
    }
   ],
   "source": [
    "output_no_reservation = output.loc[:total_runs - 1].reset_index(drop=True)\n",
    "output_no_reservation"
   ]
  },
  {
   "cell_type": "code",
   "execution_count": 4,
   "metadata": {
    "scrolled": true
   },
   "outputs": [
    {
     "data": {
      "text/html": [
       "<div>\n",
       "<style scoped>\n",
       "    .dataframe tbody tr th:only-of-type {\n",
       "        vertical-align: middle;\n",
       "    }\n",
       "\n",
       "    .dataframe tbody tr th {\n",
       "        vertical-align: top;\n",
       "    }\n",
       "\n",
       "    .dataframe thead th {\n",
       "        text-align: right;\n",
       "    }\n",
       "</style>\n",
       "<table border=\"1\" class=\"dataframe\">\n",
       "  <thead>\n",
       "    <tr style=\"text-align: right;\">\n",
       "      <th></th>\n",
       "      <th>Blocked Calls Rate (%)</th>\n",
       "      <th>Dropped Calls Rate (%)</th>\n",
       "    </tr>\n",
       "  </thead>\n",
       "  <tbody>\n",
       "    <tr>\n",
       "      <th>0</th>\n",
       "      <td>1.1280</td>\n",
       "      <td>0.3610</td>\n",
       "    </tr>\n",
       "    <tr>\n",
       "      <th>1</th>\n",
       "      <td>1.0960</td>\n",
       "      <td>0.3480</td>\n",
       "    </tr>\n",
       "    <tr>\n",
       "      <th>2</th>\n",
       "      <td>1.1120</td>\n",
       "      <td>0.3310</td>\n",
       "    </tr>\n",
       "    <tr>\n",
       "      <th>3</th>\n",
       "      <td>1.1030</td>\n",
       "      <td>0.3330</td>\n",
       "    </tr>\n",
       "    <tr>\n",
       "      <th>4</th>\n",
       "      <td>1.0895</td>\n",
       "      <td>0.3765</td>\n",
       "    </tr>\n",
       "    <tr>\n",
       "      <th>...</th>\n",
       "      <td>...</td>\n",
       "      <td>...</td>\n",
       "    </tr>\n",
       "    <tr>\n",
       "      <th>95</th>\n",
       "      <td>1.1655</td>\n",
       "      <td>0.3570</td>\n",
       "    </tr>\n",
       "    <tr>\n",
       "      <th>96</th>\n",
       "      <td>1.1020</td>\n",
       "      <td>0.3340</td>\n",
       "    </tr>\n",
       "    <tr>\n",
       "      <th>97</th>\n",
       "      <td>1.1330</td>\n",
       "      <td>0.3495</td>\n",
       "    </tr>\n",
       "    <tr>\n",
       "      <th>98</th>\n",
       "      <td>1.1395</td>\n",
       "      <td>0.3685</td>\n",
       "    </tr>\n",
       "    <tr>\n",
       "      <th>99</th>\n",
       "      <td>1.1205</td>\n",
       "      <td>0.3625</td>\n",
       "    </tr>\n",
       "  </tbody>\n",
       "</table>\n",
       "<p>100 rows × 2 columns</p>\n",
       "</div>"
      ],
      "text/plain": [
       "    Blocked Calls Rate (%)  Dropped Calls Rate (%)\n",
       "0                   1.1280                  0.3610\n",
       "1                   1.0960                  0.3480\n",
       "2                   1.1120                  0.3310\n",
       "3                   1.1030                  0.3330\n",
       "4                   1.0895                  0.3765\n",
       "..                     ...                     ...\n",
       "95                  1.1655                  0.3570\n",
       "96                  1.1020                  0.3340\n",
       "97                  1.1330                  0.3495\n",
       "98                  1.1395                  0.3685\n",
       "99                  1.1205                  0.3625\n",
       "\n",
       "[100 rows x 2 columns]"
      ]
     },
     "execution_count": 4,
     "metadata": {},
     "output_type": "execute_result"
    }
   ],
   "source": [
    "output_handover_reservation = output.loc[total_runs:].reset_index(drop=True)\n",
    "output_handover_reservation"
   ]
  },
  {
   "cell_type": "markdown",
   "metadata": {},
   "source": [
    "### 2. Calculate average values and indicate statistical significance"
   ]
  },
  {
   "cell_type": "code",
   "execution_count": 5,
   "metadata": {
    "scrolled": false
   },
   "outputs": [
    {
     "data": {
      "image/png": "[encoded data removed]",
      "text/plain": [
       "<Figure size 1080x432 with 2 Axes>"
      ]
     },
     "metadata": {},
     "output_type": "display_data"
    }
   ],
   "source": [
    "# Set the display\n",
    "sns.set_style('whitegrid')\n",
    "sns.set(rc={'figure.figsize':(15, 6)}, font_scale=1.4)\n",
    "\n",
    "# Set 2 subplots\n",
    "fig, axs = plt.subplots(ncols=2)\n",
    "fig.tight_layout(pad=2.0)\n",
    "\n",
    "# Plot the simulation outputs for both 2 FCA schemes\n",
    "sns.lineplot(data=output_no_reservation, ax=axs[0]) \\\n",
    "    .set(ylabel=\"Percentage (%)\", ylim=(0, 2), title=\"FCA Scheme with no reservation\")\n",
    "sns.lineplot(data=output_handover_reservation, ax=axs[1]) \\\n",
    "    .set(ylabel=\"Percentage (%)\", ylim=(0, 2), title=\"FCA Scheme with handover reservation\")\n",
    "\n",
    "plt.show()"
   ]
  },
  {
   "cell_type": "code",
   "execution_count": 6,
   "metadata": {},
   "outputs": [
    {
     "name": "stdout",
     "output_type": "stream",
     "text": [
      "FCA SCHEME WITH NO RESERVATION\n",
      "-----Blocked Calls Rate (%)-----\n",
      "Mean: 0.348290\n",
      "Standard Deviation: 0.016091\n",
      "-----Dropped Calls Rate (%)-----\n",
      "Mean: 0.586170\n",
      "Standard Deviation: 0.025201\n"
     ]
    }
   ],
   "source": [
    "blocked_rate_no_reservation = output_no_reservation['Blocked Calls Rate (%)']\n",
    "dropped_rate_no_reservation = output_no_reservation['Dropped Calls Rate (%)']\n",
    "\n",
    "# Calculate the mean and standard deviation\n",
    "print(\"FCA SCHEME WITH NO RESERVATION\")\n",
    "\n",
    "print(\"-----Blocked Calls Rate (%)-----\")\n",
    "print(\"Mean: {:f}\".format(blocked_rate_no_reservation.mean()))\n",
    "print(\"Standard Deviation: {:f}\".format(blocked_rate_no_reservation.std(ddof=1)))\n",
    "\n",
    "print(\"-----Dropped Calls Rate (%)-----\")\n",
    "print(\"Mean: {:f}\".format(dropped_rate_no_reservation.mean()))\n",
    "print(\"Standard Deviation: {:f}\".format(dropped_rate_no_reservation.std(ddof=1)))"
   ]
  },
  {
   "cell_type": "code",
   "execution_count": 7,
   "metadata": {},
   "outputs": [
    {
     "name": "stdout",
     "output_type": "stream",
     "text": [
      "FCA SCHEME WITH HANDOVER RESERVATION\n",
      "-----Blocked Calls Rate (%)-----\n",
      "Mean: 1.109680\n",
      "Standard Deviation: 0.033420\n",
      "-----Dropped Calls Rate (%)-----\n",
      "Mean: 0.344505\n",
      "Standard Deviation: 0.015616\n"
     ]
    }
   ],
   "source": [
    "blocked_rate_handover_reservation = output_handover_reservation['Blocked Calls Rate (%)']\n",
    "dropped_rate_handover_reservation = output_handover_reservation['Dropped Calls Rate (%)']\n",
    "\n",
    "# Calculate the mean and standard deviation\n",
    "print(\"FCA SCHEME WITH HANDOVER RESERVATION\")\n",
    "\n",
    "print(\"-----Blocked Calls Rate (%)-----\")\n",
    "print(\"Mean: {:f}\".format(blocked_rate_handover_reservation.mean()))\n",
    "print(\"Standard Deviation: {:f}\".format(blocked_rate_handover_reservation.std(ddof=1)))\n",
    "\n",
    "print(\"-----Dropped Calls Rate (%)-----\")\n",
    "print(\"Mean: {:f}\".format(dropped_rate_handover_reservation.mean()))\n",
    "print(\"Standard Deviation: {:f}\".format(dropped_rate_handover_reservation.std(ddof=1)))"
   ]
  },
  {
   "cell_type": "markdown",
   "metadata": {},
   "source": [
    "### 3. Output Analysis"
   ]
  },
  {
   "cell_type": "code",
   "execution_count": 8,
   "metadata": {},
   "outputs": [
    {
     "name": "stdout",
     "output_type": "stream",
     "text": [
      "FCA SCHEME WITH NO RESERVATION\n",
      "-----Blocked Calls Rate (%)-----\n",
      "Delta: 0.002671\n",
      "90% confidence interval: [0.345619, 0.350961]\n",
      "-----Dropped Calls Rate (%)-----\n",
      "Delta: 0.004183\n",
      "90% confidence interval: [0.581987, 0.590353]\n"
     ]
    }
   ],
   "source": [
    "t = 1.66\n",
    "n = 100\n",
    "\n",
    "print(\"FCA SCHEME WITH NO RESERVATION\")\n",
    "\n",
    "print(\"-----Blocked Calls Rate (%)-----\")\n",
    "# Calculate the mean and standard deviation\n",
    "mean1 = blocked_rate_no_reservation.mean()\n",
    "std1 = blocked_rate_no_reservation.std(ddof=1)\n",
    "delta1 = t*std1/(math.sqrt(n))\n",
    "# Get the confidence interval\n",
    "print(\"Delta: {:f}\".format(delta1))\n",
    "print(\"90% confidence interval: [{:f}, {:f}]\" \\\n",
    "      .format(mean1 - delta1, mean1 + delta1))\n",
    "\n",
    "print(\"-----Dropped Calls Rate (%)-----\")\n",
    "# Calculate the mean and standard deviation\n",
    "mean2 = dropped_rate_no_reservation.mean()\n",
    "std2 = dropped_rate_no_reservation.std(ddof=1)\n",
    "delta2 = t*std2/(math.sqrt(n))\n",
    "# Get the confidence interval\n",
    "print(\"Delta: {:f}\".format(delta2))\n",
    "print(\"90% confidence interval: [{:f}, {:f}]\" \\\n",
    "      .format(mean2 - delta2, mean2 + delta2))"
   ]
  },
  {
   "cell_type": "code",
   "execution_count": 9,
   "metadata": {},
   "outputs": [
    {
     "name": "stdout",
     "output_type": "stream",
     "text": [
      "FCA SCHEME WITH HANDOVER RESERVATION\n",
      "-----Blocked Calls Rate (%)-----\n",
      "Delta: 0.005548\n",
      "90% confidence interval: [1.104132, 1.115228]\n",
      "-----Dropped Calls Rate (%)-----\n",
      "Delta: 0.002592\n",
      "90% confidence interval: [0.341913, 0.347097]\n"
     ]
    }
   ],
   "source": [
    "t = 1.66\n",
    "n = 100\n",
    "\n",
    "print(\"FCA SCHEME WITH HANDOVER RESERVATION\")\n",
    "\n",
    "print(\"-----Blocked Calls Rate (%)-----\")\n",
    "# Calculate the mean and standard deviation\n",
    "mean3 = blocked_rate_handover_reservation.mean()\n",
    "std3 = blocked_rate_handover_reservation.std(ddof=1)\n",
    "delta3 = t*std3/(math.sqrt(n))\n",
    "# Get the confidence interval\n",
    "print(\"Delta: {:f}\".format(delta3))\n",
    "print(\"90% confidence interval: [{:f}, {:f}]\" \\\n",
    "      .format(mean3 - delta3, mean3 + delta3))\n",
    "\n",
    "print(\"-----Dropped Calls Rate (%)-----\")\n",
    "# Calculate the mean and standard deviation\n",
    "mean4 = dropped_rate_handover_reservation.mean()\n",
    "std4 = dropped_rate_handover_reservation.std(ddof=1)\n",
    "delta4 = t*std4/(math.sqrt(n))\n",
    "# Get the confidence interval\n",
    "print(\"Delta: {:f}\".format(delta4))\n",
    "print(\"90% confidence interval: [{:f}, {:f}]\" \\\n",
    "      .format(mean4 -delta4, mean4 + delta4))"
   ]
  },
  {
   "cell_type": "markdown",
   "metadata": {},
   "source": [
    "### 4. Comparisions between 2 FCA schemes"
   ]
  },
  {
   "cell_type": "markdown",
   "metadata": {},
   "source": [
    "#### Blocked Calls rate"
   ]
  },
  {
   "cell_type": "code",
   "execution_count": 10,
   "metadata": {},
   "outputs": [
    {
     "data": {
      "text/plain": [
       "0   -0.7755\n",
       "1   -0.7380\n",
       "2   -0.7505\n",
       "3   -0.7650\n",
       "4   -0.7505\n",
       "Name: Blocked Calls Rate (%), dtype: float64"
      ]
     },
     "execution_count": 10,
     "metadata": {},
     "output_type": "execute_result"
    }
   ],
   "source": [
    "# Subtract the Blocked Calls rate between 2 schemes\n",
    "Z_r_blocked_rate = blocked_rate_no_reservation - blocked_rate_handover_reservation\n",
    "Z_r_blocked_rate.head()"
   ]
  },
  {
   "cell_type": "code",
   "execution_count": 11,
   "metadata": {},
   "outputs": [
    {
     "name": "stdout",
     "output_type": "stream",
     "text": [
      "-----DIFFRENCE BETWEEN BLOCKED CALLS RATE-----\n",
      "Mean: -0.761390\n",
      "Standard Deviation: 0.038441\n",
      "Delta: 0.006381\n",
      "90% confidence interval: [-0.767771, -0.755009]\n"
     ]
    }
   ],
   "source": [
    "# Calculate the mean and standard deviation\n",
    "mean5 = Z_r_blocked_rate.mean()\n",
    "std5 = Z_r_blocked_rate.std(ddof=1)\n",
    "# Get the confidence interval\n",
    "t = 1.66\n",
    "n = 100\n",
    "delta5 = t*std5/(math.sqrt(n))\n",
    "\n",
    "print(\"-----DIFFRENCE BETWEEN BLOCKED CALLS RATE-----\")\n",
    "print(\"Mean: {:f}\".format(mean5))\n",
    "print(\"Standard Deviation: {:f}\".format(std5))\n",
    "print(\"Delta: {:f}\".format(delta5))\n",
    "print(\"90% confidence interval: [{:f}, {:f}]\" \\\n",
    "      .format(mean5 -delta5, mean5 + delta5))"
   ]
  },
  {
   "cell_type": "markdown",
   "metadata": {},
   "source": [
    "#### Dropped Calls rate"
   ]
  },
  {
   "cell_type": "code",
   "execution_count": 12,
   "metadata": {},
   "outputs": [
    {
     "data": {
      "text/plain": [
       "0    0.2210\n",
       "1    0.2520\n",
       "2    0.2265\n",
       "3    0.2555\n",
       "4    0.1920\n",
       "Name: Dropped Calls Rate (%), dtype: float64"
      ]
     },
     "execution_count": 12,
     "metadata": {},
     "output_type": "execute_result"
    }
   ],
   "source": [
    "# Subtract the Dropped Calls rate between 2 schemes\n",
    "Z_r_dropped_rate = dropped_rate_no_reservation - dropped_rate_handover_reservation\n",
    "Z_r_dropped_rate.head()"
   ]
  },
  {
   "cell_type": "code",
   "execution_count": 13,
   "metadata": {},
   "outputs": [
    {
     "name": "stdout",
     "output_type": "stream",
     "text": [
      "-----DIFFRENCE BETWEEN DROPPED CALLS RATE-----\n",
      "Mean: 0.241665\n",
      "Standard Deviation: 0.030489\n",
      "Delta: 0.005061\n",
      "90% confidence interval: [0.236604, 0.246726]\n"
     ]
    }
   ],
   "source": [
    "# Calculate the mean and standard deviation\n",
    "mean6 = Z_r_dropped_rate.mean()\n",
    "std6 = Z_r_dropped_rate.std(ddof=1)\n",
    "# Get the confidence interval\n",
    "t = 1.66\n",
    "n = 100\n",
    "delta6 = t*std6/(math.sqrt(n))\n",
    "\n",
    "print(\"-----DIFFRENCE BETWEEN DROPPED CALLS RATE-----\")\n",
    "print(\"Mean: {:f}\".format(mean6))\n",
    "print(\"Standard Deviation: {:f}\".format(std6))\n",
    "print(\"Delta: {:f}\".format(delta6))\n",
    "print(\"90% confidence interval: [{:f}, {:f}]\" \\\n",
    "      .format(mean6 -delta6, mean6 + delta6))"
   ]
  },
  {
   "cell_type": "code",
   "execution_count": null,
   "metadata": {},
   "outputs": [],
   "source": []
  }
 ],
 "metadata": {
  "kernelspec": {
   "display_name": "simulation",
   "language": "python",
   "name": "env"
  },
  "language_info": {
   "codemirror_mode": {
    "name": "ipython",
    "version": 3
   },
   "file_extension": ".py",
   "mimetype": "text/x-python",
   "name": "python",
   "nbconvert_exporter": "python",
   "pygments_lexer": "ipython3",
   "version": "3.7.7"
  }
 },
 "nbformat": 4,
 "nbformat_minor": 4
}
